{
 "cells": [
  {
   "cell_type": "markdown",
   "id": "2a062363",
   "metadata": {},
   "source": [
    "# 卷积自动编码器在手写数字去噪中的应用研究"
   ]
  },
  {
   "cell_type": "markdown",
   "id": "c1a00b2c",
   "metadata": {},
   "source": [
    "\n",
    "本 Notebook 展示了基于 **卷积自动编码器（Convolutional Autoencoder, CAE）** 进行手写数字去噪的研究过程。数据集使用 **MNIST** 手写数字数据集，并添加高斯噪声模拟噪声数据。主要步骤包括：\n",
    "\n",
    "1. 数据预处理与噪声添加\n",
    "2. 卷积自动编码器模型构建\n",
    "3. 模型训练与验证\n",
    "4. 去噪效果可视化与评估\n"
   ]
  },
  {
   "cell_type": "code",
   "execution_count": null,
   "id": "4939b2e3",
   "metadata": {},
   "outputs": [],
   "source": [
    "\n",
    "import numpy as np\n",
    "import matplotlib.pyplot as plt\n",
    "from tensorflow.keras.datasets import mnist\n",
    "from tensorflow.keras.models import Model\n",
    "from tensorflow.keras.layers import Input, Conv2D, MaxPooling2D, UpSampling2D\n",
    "\n",
    "# 1. 加载 MNIST 数据集\n",
    "(x_train, _), (x_test, _) = mnist.load_data()\n",
    "\n",
    "# 数据归一化\n",
    "x_train = x_train.astype('float32') / 255.\n",
    "x_test = x_test.astype('float32') / 255.\n",
    "\n",
    "# 数据维度调整 (N, 28, 28, 1)\n",
    "x_train = np.reshape(x_train, (len(x_train), 28, 28, 1))\n",
    "x_test = np.reshape(x_test, (len(x_test), 28, 28, 1))\n",
    "\n",
    "# 2. 添加高斯噪声\n",
    "noise_factor = 0.5\n",
    "x_train_noisy = x_train + noise_factor * np.random.normal(loc=0.0, scale=1.0, size=x_train.shape)\n",
    "x_test_noisy = x_test + noise_factor * np.random.normal(loc=0.0, scale=1.0, size=x_test.shape)\n",
    "\n",
    "# 限制噪声范围在 [0, 1]\n",
    "x_train_noisy = np.clip(x_train_noisy, 0., 1.)\n",
    "x_test_noisy = np.clip(x_test_noisy, 0., 1.)\n",
    "\n",
    "# 数据可视化 (原始数据 vs 噪声数据)\n",
    "n = 10\n",
    "plt.figure(figsize=(20, 4))\n",
    "for i in range(n):\n",
    "    ax = plt.subplot(2, n, i + 1)\n",
    "    plt.imshow(x_test[i].reshape(28, 28), cmap='gray')\n",
    "    plt.title(\"Original\")\n",
    "    plt.axis('off')\n",
    "    ax = plt.subplot(2, n, i + 1 + n)\n",
    "    plt.imshow(x_test_noisy[i].reshape(28, 28), cmap='gray')\n",
    "    plt.title(\"Noisy\")\n",
    "    plt.axis('off')\n",
    "plt.show()\n"
   ]
  },
  {
   "cell_type": "markdown",
   "id": "9d864d47",
   "metadata": {},
   "source": [
    "## 构建卷积自动编码器模型"
   ]
  },
  {
   "cell_type": "code",
   "execution_count": null,
   "id": "1a678a3e",
   "metadata": {},
   "outputs": [],
   "source": [
    "\n",
    "# 3. 卷积自动编码器模型\n",
    "input_img = Input(shape=(28, 28, 1))\n",
    "\n",
    "# 编码器\n",
    "x = Conv2D(32, (3, 3), activation='relu', padding='same')(input_img)\n",
    "x = MaxPooling2D((2, 2), padding='same')(x)\n",
    "x = Conv2D(16, (3, 3), activation='relu', padding='same')(x)\n",
    "encoded = MaxPooling2D((2, 2), padding='same')(x)\n",
    "\n",
    "# 解码器\n",
    "x = Conv2D(16, (3, 3), activation='relu', padding='same')(encoded)\n",
    "x = UpSampling2D((2, 2))(x)\n",
    "x = Conv2D(32, (3, 3), activation='relu', padding='same')(x)\n",
    "x = UpSampling2D((2, 2))(x)\n",
    "decoded = Conv2D(1, (3, 3), activation='sigmoid', padding='same')(x)\n",
    "\n",
    "# 定义模型\n",
    "autoencoder = Model(input_img, decoded)\n",
    "autoencoder.compile(optimizer='adam', loss='binary_crossentropy')\n",
    "\n",
    "# 模型结构展示\n",
    "autoencoder.summary()\n"
   ]
  },
  {
   "cell_type": "markdown",
   "id": "aa2d79ed",
   "metadata": {},
   "source": [
    "## 模型训练"
   ]
  },
  {
   "cell_type": "code",
   "execution_count": null,
   "id": "4d417812",
   "metadata": {},
   "outputs": [],
   "source": [
    "\n",
    "# 4. 模型训练\n",
    "autoencoder.fit(x_train_noisy, x_train,\n",
    "                epochs=10,\n",
    "                batch_size=128,\n",
    "                shuffle=True,\n",
    "                validation_data=(x_test_noisy, x_test))\n",
    "\n",
    "# 保存模型\n",
    "autoencoder.save(\"denoising_autoencoder.h5\")\n"
   ]
  },
  {
   "cell_type": "markdown",
   "id": "b313c514",
   "metadata": {},
   "source": [
    "## 去噪效果可视化"
   ]
  },
  {
   "cell_type": "code",
   "execution_count": null,
   "id": "757f9ca7",
   "metadata": {},
   "outputs": [],
   "source": [
    "\n",
    "# 5. 去噪结果展示\n",
    "decoded_imgs = autoencoder.predict(x_test_noisy)\n",
    "\n",
    "n = 10\n",
    "plt.figure(figsize=(20, 6))\n",
    "for i in range(n):\n",
    "    # 噪声图像\n",
    "    ax = plt.subplot(3, n, i + 1)\n",
    "    plt.imshow(x_test_noisy[i].reshape(28, 28), cmap='gray')\n",
    "    plt.title(\"Noisy\")\n",
    "    plt.axis('off')\n",
    "    \n",
    "    # 去噪后的图像\n",
    "    ax = plt.subplot(3, n, i + 1 + n)\n",
    "    plt.imshow(decoded_imgs[i].reshape(28, 28), cmap='gray')\n",
    "    plt.title(\"Denoised\")\n",
    "    plt.axis('off')\n",
    "plt.show()\n"
   ]
  },
  {
   "cell_type": "markdown",
   "id": "dfe4f83f",
   "metadata": {},
   "source": [
    "## 总结与分析"
   ]
  },
  {
   "cell_type": "markdown",
   "id": "2e552cc1",
   "metadata": {},
   "source": [
    "\n",
    "本实验通过卷积自动编码器成功去除了 MNIST 数据集中添加的高斯噪声，验证了自动编码器在图像去噪任务中的有效性。\n",
    "\n",
    "- **模型结构**：采用卷积层与池化层实现特征提取和重建。\n",
    "- **去噪效果**：通过对比噪声图像与重建图像，直观展示了去噪效果。\n",
    "- **实验结果**：去噪后的图像清晰度显著提升，验证了模型的实用性。\n",
    "\n",
    "进一步优化可考虑增加模型深度、调整训练参数或使用其他变体如 **变分自动编码器（VAE）**。\n"
   ]
  }
 ],
 "metadata": {},
 "nbformat": 4,
 "nbformat_minor": 5
}
